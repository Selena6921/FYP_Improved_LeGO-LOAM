{
 "cells": [
  {
   "cell_type": "code",
   "execution_count": 2,
   "metadata": {},
   "outputs": [],
   "source": [
    "# evo package is used to change format from kitti to TUM\n",
    "import evo.tools.file_interface as fii\n",
    "from evo.core.trajectory import PoseTrajectory3D\n",
    "import evo.core.transformations as tr\n",
    "import io\n",
    "import numpy as np\n",
    "import pandas as pd\n",
    "import os"
   ]
  },
  {
   "cell_type": "code",
   "execution_count": 4,
   "metadata": {
    "scrolled": true
   },
   "outputs": [],
   "source": [
    "## seq_id: # of KITTI odometry data\n",
    "## odom_path: the file PaGO-LOAM gives as KITTI format odometry\n",
    "## time_path: the file contains the times matching with odometry\n",
    "\n",
    "## traj: file to change the format\n",
    "## ref_stamp: compare the how number of each file (GT, odometry) is different\n",
    "\n",
    "seq_id = \"01\"\n",
    "\n",
    "odom_path = \"/home/selena/catkin_ws/src/pose_result.txt\"\n",
    "gt_path = \"/mnt/d/year3/fyp/ground_truth_pose/poses/\" + seq_id + \".txt\"\n",
    "time_path = \"/home/selena/catkin_ws/src/pose_time.txt\"\n",
    "\n",
    "traj = fii.read_kitti_poses_file(odom_path)\n",
    "ref_stamp = pd.read_csv(time_path,header=None, index_col = False)"
   ]
  },
  {
   "cell_type": "code",
   "execution_count": 5,
   "metadata": {},
   "outputs": [
    {
     "name": "stdout",
     "output_type": "stream",
     "text": [
      "1101\n",
      "840\n"
     ]
    }
   ],
   "source": [
    "\n",
    "gt = pd.read_csv(gt_path,header=None, index_col = False)\n",
    "print(len(gt))\n",
    "print(len(ref_stamp))"
   ]
  },
  {
   "cell_type": "code",
   "execution_count": 6,
   "metadata": {
    "scrolled": true
   },
   "outputs": [],
   "source": [
    "xyz = []\n",
    "quat = []\n",
    "stamps = []\n",
    "for i in range(len(traj.poses_se3)):\n",
    "    xyz.append(traj.poses_se3[i][:3,3])\n",
    "    quat.append(tr.quaternion_from_matrix(traj.poses_se3[i][:3,:3]))\n",
    "    stamps.append(ref_stamp.iloc[i,0])"
   ]
  },
  {
   "cell_type": "code",
   "execution_count": 9,
   "metadata": {},
   "outputs": [],
   "source": [
    "# save traj file as TUM format\n",
    "fii.write_tum_trajectory_file(\"/mnt/d/year3/fyp/result/lego-patch_KTI_\" + seq_id + \"/stamped_traj_estimate.txt\",PoseTrajectory3D(np.array(xyz),np.array(quat),np.array(stamps)))\n",
    "os.remove(odom_path)\n",
    "os.remove(time_path)"
   ]
  }
 ],
 "metadata": {
  "kernelspec": {
   "display_name": "Python 3",
   "language": "python",
   "name": "python3"
  },
  "language_info": {
   "codemirror_mode": {
    "name": "ipython",
    "version": 3
   },
   "file_extension": ".py",
   "mimetype": "text/x-python",
   "name": "python",
   "nbconvert_exporter": "python",
   "pygments_lexer": "ipython3",
   "version": "3.6.9"
  }
 },
 "nbformat": 4,
 "nbformat_minor": 5
}
